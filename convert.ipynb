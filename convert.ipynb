{
 "cells": [
  {
   "cell_type": "markdown",
   "metadata": {},
   "source": [
    "#### Converting to .tflite"
   ]
  },
  {
   "cell_type": "code",
   "execution_count": 1,
   "metadata": {},
   "outputs": [],
   "source": [
    "import tensorflow as tf"
   ]
  },
  {
   "cell_type": "code",
   "execution_count": 4,
   "metadata": {},
   "outputs": [
    {
     "name": "stdout",
     "output_type": "stream",
     "text": [
      "INFO:tensorflow:Assets written to: C:\\Users\\HOMENEW\\AppData\\Local\\Temp\\tmpd94iag09\\assets\n"
     ]
    },
    {
     "name": "stderr",
     "output_type": "stream",
     "text": [
      "INFO:tensorflow:Assets written to: C:\\Users\\HOMENEW\\AppData\\Local\\Temp\\tmpd94iag09\\assets\n"
     ]
    },
    {
     "name": "stdout",
     "output_type": "stream",
     "text": [
      "Saved artifact at 'C:\\Users\\HOMENEW\\AppData\\Local\\Temp\\tmpd94iag09'. The following endpoints are available:\n",
      "\n",
      "* Endpoint 'serve'\n",
      "  args_0 (POSITIONAL_ONLY): TensorSpec(shape=(None, 224, 224, 3), dtype=tf.float32, name='input_layer_1')\n",
      "Output Type:\n",
      "  TensorSpec(shape=(None, 93), dtype=tf.float32, name=None)\n",
      "Captures:\n",
      "  2152190197392: TensorSpec(shape=(), dtype=tf.resource, name=None)\n",
      "  2152190197584: TensorSpec(shape=(), dtype=tf.resource, name=None)\n",
      "  2152107623248: TensorSpec(shape=(), dtype=tf.resource, name=None)\n",
      "  2152107624016: TensorSpec(shape=(), dtype=tf.resource, name=None)\n",
      "  2152107624208: TensorSpec(shape=(), dtype=tf.resource, name=None)\n",
      "  2152107624784: TensorSpec(shape=(), dtype=tf.resource, name=None)\n",
      "  2152107624976: TensorSpec(shape=(), dtype=tf.resource, name=None)\n",
      "  2152107625552: TensorSpec(shape=(), dtype=tf.resource, name=None)\n",
      "  2152107625744: TensorSpec(shape=(), dtype=tf.resource, name=None)\n",
      "  2152107626320: TensorSpec(shape=(), dtype=tf.resource, name=None)\n",
      "  2152107626512: TensorSpec(shape=(), dtype=tf.resource, name=None)\n",
      "  2152107627088: TensorSpec(shape=(), dtype=tf.resource, name=None)\n",
      "  2152107627280: TensorSpec(shape=(), dtype=tf.resource, name=None)\n",
      "  2152107627856: TensorSpec(shape=(), dtype=tf.resource, name=None)\n",
      "  2152107628048: TensorSpec(shape=(), dtype=tf.resource, name=None)\n",
      "  2152107628624: TensorSpec(shape=(), dtype=tf.resource, name=None)\n",
      "  2152107628816: TensorSpec(shape=(), dtype=tf.resource, name=None)\n",
      "  2152107629392: TensorSpec(shape=(), dtype=tf.resource, name=None)\n",
      "  2152107629584: TensorSpec(shape=(), dtype=tf.resource, name=None)\n",
      "  2152107630160: TensorSpec(shape=(), dtype=tf.resource, name=None)\n",
      "  2152107630352: TensorSpec(shape=(), dtype=tf.resource, name=None)\n",
      "  2152107630928: TensorSpec(shape=(), dtype=tf.resource, name=None)\n",
      "  2152107631120: TensorSpec(shape=(), dtype=tf.resource, name=None)\n",
      "  2152107631696: TensorSpec(shape=(), dtype=tf.resource, name=None)\n",
      "  2152107631888: TensorSpec(shape=(), dtype=tf.resource, name=None)\n",
      "  2152107632464: TensorSpec(shape=(), dtype=tf.resource, name=None)\n",
      "  2152107632656: TensorSpec(shape=(), dtype=tf.resource, name=None)\n",
      "  2152107633232: TensorSpec(shape=(), dtype=tf.resource, name=None)\n",
      "  2152107633424: TensorSpec(shape=(), dtype=tf.resource, name=None)\n",
      "  2152107634000: TensorSpec(shape=(), dtype=tf.resource, name=None)\n",
      "  2152107634192: TensorSpec(shape=(), dtype=tf.resource, name=None)\n",
      "  2152107634768: TensorSpec(shape=(), dtype=tf.resource, name=None)\n",
      "  2152107635344: TensorSpec(shape=(), dtype=tf.resource, name=None)\n",
      "  2152107635152: TensorSpec(shape=(), dtype=tf.resource, name=None)\n",
      "  2152107635536: TensorSpec(shape=(), dtype=tf.resource, name=None)\n",
      "  2152107636304: TensorSpec(shape=(), dtype=tf.resource, name=None)\n",
      "  2152107636688: TensorSpec(shape=(), dtype=tf.resource, name=None)\n",
      "  2152107637840: TensorSpec(shape=(), dtype=tf.resource, name=None)\n",
      "  2152107638224: TensorSpec(shape=(), dtype=tf.resource, name=None)\n",
      "  2152107634384: TensorSpec(shape=(), dtype=tf.resource, name=None)\n",
      "  2152107637072: TensorSpec(shape=(), dtype=tf.resource, name=None)\n",
      "  2152107638032: TensorSpec(shape=(), dtype=tf.resource, name=None)\n",
      "  2152230191952: TensorSpec(shape=(), dtype=tf.resource, name=None)\n",
      "  2152230192912: TensorSpec(shape=(), dtype=tf.resource, name=None)\n",
      "  2152230193296: TensorSpec(shape=(), dtype=tf.resource, name=None)\n",
      "  2152230192528: TensorSpec(shape=(), dtype=tf.resource, name=None)\n",
      "  2152230192336: TensorSpec(shape=(), dtype=tf.resource, name=None)\n",
      "  2152230193104: TensorSpec(shape=(), dtype=tf.resource, name=None)\n",
      "  2152230194064: TensorSpec(shape=(), dtype=tf.resource, name=None)\n",
      "  2152230195792: TensorSpec(shape=(), dtype=tf.resource, name=None)\n"
     ]
    }
   ],
   "source": [
    "# Path to your .h5 file\n",
    "h5_model_path = \"disease_vgg.keras\"\n",
    "\n",
    "# Load the Keras model\n",
    "model = tf.keras.models.load_model(h5_model_path)\n",
    "\n",
    "# Convert the model\n",
    "converter = tf.lite.TFLiteConverter.from_keras_model(model)\n",
    "# converter.optimizations = [tf.lite.Optimize.DEFAULT]    # Optimize the model\n",
    "tflite_model = converter.convert()\n",
    "\n",
    "# Save the TFLite model\n",
    "with open(\"model_vgg.tflite\", \"wb\") as f:\n",
    "    f.write(tflite_model)"
   ]
  },
  {
   "cell_type": "code",
   "execution_count": 6,
   "metadata": {},
   "outputs": [
    {
     "name": "stdout",
     "output_type": "stream",
     "text": [
      "[{'name': 'serving_default_input_layer_1:0', 'index': 0, 'shape': array([  1, 224, 224,   3]), 'shape_signature': array([ -1, 224, 224,   3]), 'dtype': <class 'numpy.float32'>, 'quantization': (0.0, 0), 'quantization_parameters': {'scales': array([], dtype=float32), 'zero_points': array([], dtype=int32), 'quantized_dimension': 0}, 'sparsity_parameters': {}}]\n",
      "[{'name': 'StatefulPartitionedCall_1:0', 'index': 65, 'shape': array([ 1, 93]), 'shape_signature': array([-1, 93]), 'dtype': <class 'numpy.float32'>, 'quantization': (0.0, 0), 'quantization_parameters': {'scales': array([], dtype=float32), 'zero_points': array([], dtype=int32), 'quantized_dimension': 0}, 'sparsity_parameters': {}}]\n"
     ]
    }
   ],
   "source": [
    "import numpy as np\n",
    "import tensorflow as tf\n",
    "\n",
    "# Load the TFLite model\n",
    "interpreter = tf.lite.Interpreter(model_path=\"model_vgg.tflite\")\n",
    "interpreter.allocate_tensors()\n",
    "\n",
    "# Get input and output details\n",
    "input_details = interpreter.get_input_details()\n",
    "output_details = interpreter.get_output_details()\n",
    "\n",
    "print(input_details)\n",
    "print(output_details)\n"
   ]
  }
 ],
 "metadata": {
  "kernelspec": {
   "display_name": "base",
   "language": "python",
   "name": "python3"
  },
  "language_info": {
   "codemirror_mode": {
    "name": "ipython",
    "version": 3
   },
   "file_extension": ".py",
   "mimetype": "text/x-python",
   "name": "python",
   "nbconvert_exporter": "python",
   "pygments_lexer": "ipython3",
   "version": "3.12.3"
  }
 },
 "nbformat": 4,
 "nbformat_minor": 2
}
